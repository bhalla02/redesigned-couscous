{
 "cells": [
  {
   "cell_type": "markdown",
   "id": "a00d8e18-831b-4395-8409-1436fda8b540",
   "metadata": {},
   "source": [
    "Q1\n",
    "Ordinal encoding assigns a unique integer to each category in a categorical variable based on some order or rank. Label encoding, on the other hand, assigns a unique integer to each category arbitrarily.\n",
    "Example: Suppose you have a variable \"Education Level\" with categories \"High School,\" \"Bachelor's,\" \"Master's,\" and \"PhD.\" In ordinal encoding, these categories might be assigned integers 1, 2, 3, and 4 based on their educational level hierarchy. In label encoding, these categories could be assigned integers 0, 1, 2, and 3 without any specific order.\n",
    "Ordinal encoding is preferred when there is a clear order or hierarchy among the categories, such as in educational levels or rankings. Label encoding is suitable when there is no inherent order among the categories."
   ]
  },
  {
   "cell_type": "markdown",
   "id": "c3f43875-5a5b-4f71-b555-d60ccab5e6f9",
   "metadata": {},
   "source": [
    "Q2\n",
    "Target Guided Ordinal Encoding is a technique where categorical variables are encoded based on the target variable's mean or median value for each category. It helps capture the relationship between the categorical variable and the target variable.\n",
    "Example: In a binary classification problem to predict loan default, you can encode the \"Education Level\" variable based on the mean default rate for each category. Categories with higher default rates might be assigned higher encoded values, reflecting their risk level."
   ]
  },
  {
   "cell_type": "markdown",
   "id": "71bee9b3-ffba-4c39-84cf-dfa36738fb08",
   "metadata": {},
   "source": [
    "Q3\n",
    "Covariance measures the degree to which two variables change together. It indicates the direction of the linear relationship between two variables.\n",
    "Covariance is important in statistical analysis because it helps understand the relationship between variables and is used in various statistical methods, including linear regression, portfolio theory in finance, and dimensionality reduction techniques.\n",
    "Covariance between two variables X and Y is calculated as the average of the product of the deviations of each variable from their respective means:\n",
    "cov\n",
    "(\n",
    "�\n",
    ",\n",
    "�\n",
    ")\n",
    "=\n",
    "1\n",
    "�\n",
    "∑\n",
    "�\n",
    "=\n",
    "1\n",
    "�\n",
    "(\n",
    "�\n",
    "�\n",
    "−\n",
    "�\n",
    "ˉ\n",
    ")\n",
    "(\n",
    "�\n",
    "�\n",
    "−\n",
    "�\n",
    "ˉ\n",
    ")\n",
    "cov(X,Y)= \n",
    "n\n",
    "1\n",
    "​\n",
    " ∑ \n",
    "i=1\n",
    "n\n",
    "​\n",
    " (X \n",
    "i\n",
    "​\n",
    " − \n",
    "X\n",
    "ˉ\n",
    " )(Y \n",
    "i\n",
    "​\n",
    " − \n",
    "Y\n",
    "ˉ\n",
    " )"
   ]
  },
  {
   "cell_type": "code",
   "execution_count": 6,
   "id": "498dbe31-672e-4c9e-afe1-5c4b950776a0",
   "metadata": {},
   "outputs": [
    {
     "name": "stdout",
     "output_type": "stream",
     "text": [
      "   Color  Size  Material\n",
      "0      2     2         2\n",
      "1      1     1         0\n",
      "2      0     0         1\n",
      "3      1     1         2\n",
      "4      2     2         0\n"
     ]
    }
   ],
   "source": [
    "#Q4\n",
    "from sklearn.preprocessing import LabelEncoder\n",
    "import pandas as pd\n",
    "\n",
    "# Define the dataset\n",
    "data = {\n",
    "    'Color': ['red', 'green', 'blue', 'green', 'red'],\n",
    "    'Size': ['small', 'medium', 'large', 'medium', 'small'],\n",
    "    'Material': ['wood', 'metal', 'plastic', 'wood', 'metal']\n",
    "}\n",
    "\n",
    "# Convert the dataset into a DataFrame\n",
    "df = pd.DataFrame(data)\n",
    "\n",
    "# Initialize LabelEncoder\n",
    "label_encoder = LabelEncoder()\n",
    "\n",
    "# Apply label encoding to each column\n",
    "encoded_data = df.copy()\n",
    "for col in df.columns:\n",
    "    encoded_data[col] = label_encoder.fit_transform(df[col])\n",
    "\n",
    "print(encoded_data)\n"
   ]
  },
  {
   "cell_type": "code",
   "execution_count": null,
   "id": "2fa2d085-eff4-47bb-9516-add5854e0d4f",
   "metadata": {},
   "outputs": [],
   "source": []
  },
  {
   "cell_type": "code",
   "execution_count": null,
   "id": "2ae7b8fd-a80f-4219-9425-6af99a4c49df",
   "metadata": {},
   "outputs": [],
   "source": []
  }
 ],
 "metadata": {
  "kernelspec": {
   "display_name": "Python 3 (ipykernel)",
   "language": "python",
   "name": "python3"
  },
  "language_info": {
   "codemirror_mode": {
    "name": "ipython",
    "version": 3
   },
   "file_extension": ".py",
   "mimetype": "text/x-python",
   "name": "python",
   "nbconvert_exporter": "python",
   "pygments_lexer": "ipython3",
   "version": "3.10.8"
  }
 },
 "nbformat": 4,
 "nbformat_minor": 5
}
